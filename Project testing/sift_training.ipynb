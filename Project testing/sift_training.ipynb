{
 "cells": [
  {
   "cell_type": "code",
   "execution_count": 79,
   "metadata": {},
   "outputs": [],
   "source": [
    "import numpy as np\n",
    "import cv2 as cv\n",
    "from sklearn.preprocessing import KBinsDiscretizer\n",
    "import matplotlib.pyplot as plt\n",
    "from sklearn import svm\n",
    "from sklearn import cluster\n",
    "\n"
   ]
  },
  {
   "cell_type": "code",
   "execution_count": 80,
   "metadata": {},
   "outputs": [
    {
     "name": "stdout",
     "output_type": "stream",
     "text": [
      "(< cv2.KeyPoint 000001DAA9E57B40>, < cv2.KeyPoint 000001DAAD1D6A20>, < cv2.KeyPoint 000001DAAD1D6510>, < cv2.KeyPoint 000001DAAD1D6B70>, < cv2.KeyPoint 000001DAAD1D6450>)\n"
     ]
    }
   ],
   "source": [
    "path = \"D:/Engineering/CUFE/3rd Year (Computer) (2022)/First Semester/Image Processing/Projects/Training set/2/\"\n",
    "img = cv.imread(path + '1.jpg')\n",
    "sift = cv.SIFT_create()\n",
    "kp, descriptor = sift.detectAndCompute(img,None)\n",
    "feature_set = np.copy(descriptor)\n",
    "descriptors = []\n",
    "descriptors.append(descriptor)\n",
    "bagOfWords = []\n",
    "y = []\n",
    "# imgs = np.copy(img)\n",
    "for i in range(2,101):\n",
    "    # Read image\n",
    "    img = cv.imread(path + f'{i}.jpg')\n",
    "    # imgs=np.concatenate((imgs, img),axis=0)\n",
    "\n",
    "    # Grayscale\n",
    "    # gray = cv.cvtColor(img, cv.COLOR_BGR2GRAY)\n",
    "    # Binary\n",
    "    # et, thresh1 = cv.threshold(gray, 127, 255, cv.THRESH_BINARY_INV+cv.THRESH_OTSU)\n",
    "    # Initialize sift\n",
    "    sift = cv.SIFT_create()\n",
    "    # Keypoints, descriptors\n",
    "    kp, descriptor = sift.detectAndCompute(img,None)\n",
    "    # print(len(descriptor[0]))\n",
    "    descriptors.append(np.array(descriptor))\n",
    "    # Each keypoint has a descriptor with length 128\n",
    "    # print(len(descriptors))\n",
    "    # print(len(descriptors[0]))\n",
    "    # print(len(descriptors[0][0]))\n",
    "    # print(descriptors)\n",
    "    # cv.imshow('Threshold', img)\n",
    "    # cv.waitKey(0)\n",
    "    # cv.destroyAllWindows()\n",
    "    feature_set = np.concatenate((feature_set, descriptor),axis=0)\n",
    "    # print(feature_set)\n",
    "\n",
    "print(kp)"
   ]
  },
  {
   "cell_type": "code",
   "execution_count": 81,
   "metadata": {},
   "outputs": [],
   "source": [
    "# n_bins = 50\n",
    "# encoder = KBinsDiscretizer(n_bins=n_bins, encode=\"ordinal\", strategy=\"kmeans\")\n",
    "# encoder.fit(feature_set)\n",
    "# print(encoder.get_params())\n",
    "# descriptor = np.array(descriptor)\n",
    "# # _, ax = plt.subplots()\n",
    "# # ax.hist(y, bins=256)\n"
   ]
  },
  {
   "cell_type": "code",
   "execution_count": 82,
   "metadata": {},
   "outputs": [],
   "source": [
    "n_clusters = 100\n",
    "np.random.seed(0)\n",
    "\n",
    "x = feature_set\n",
    "k_means = cluster.KMeans(n_clusters=n_clusters, n_init=4)\n",
    "k_means.fit(x)\n",
    "# Value of each cluster\n",
    "values = k_means.cluster_centers_.squeeze()\n",
    "# label (cluster) of each point of feature set\n",
    "labels = k_means.labels_\n"
   ]
  },
  {
   "cell_type": "code",
   "execution_count": 83,
   "metadata": {},
   "outputs": [
    {
     "name": "stdout",
     "output_type": "stream",
     "text": [
      "128\n",
      "737\n",
      "737\n"
     ]
    }
   ],
   "source": [
    "print(len(values[0]))\n",
    "print(len(labels))\n",
    "print(len(x))"
   ]
  },
  {
   "cell_type": "code",
   "execution_count": 84,
   "metadata": {},
   "outputs": [],
   "source": [
    "# feature_set = np.choose(labels, values)\n",
    "# feature_set.shape = feature_set.shape"
   ]
  },
  {
   "cell_type": "code",
   "execution_count": null,
   "metadata": {},
   "outputs": [],
   "source": [
    "# print(descriptor)\n",
    "\n",
    "for descriptor in descriptors:\n",
    "    vq = [0] * 100\n",
    "    descriptor = k_means.predict(descriptors[0])\n",
    "    # print(descriptor)\n",
    "    for feature in descriptor:\n",
    "        vq[feature] = vq[feature] + 1\n",
    "    # plt.hist(descriptor, bins=n_clusters)\n",
    "    # plt.show()\n",
    "    # print(vq)\n",
    "        # print(descriptor)\n",
    "    bagOfWords.append(vq)\n",
    "    y.append(\"2\")\n",
    "        # _, ax = plt.subplots()\n",
    "        # ax.hist(descriptor, bins=256)\n",
    "# print(len(bagOfWords[0]))\n",
    "# print(bagOfWords)"
   ]
  },
  {
   "cell_type": "code",
   "execution_count": null,
   "metadata": {},
   "outputs": [],
   "source": [
    "# # print(descriptor)\n",
    "# descriptors2 = []\n",
    "# for descriptor in descriptors:\n",
    "#     descriptor = encoder.transform(descriptor)\n",
    "#     print(len(descriptor))\n",
    "#     descriptors2.append(descriptor)\n",
    "# # _, ax = plt.subplots()\n",
    "# # ax.hist(descriptor, bins=256)"
   ]
  },
  {
   "cell_type": "code",
   "execution_count": null,
   "metadata": {},
   "outputs": [],
   "source": [
    "# for descriptor in descriptors:\n",
    "#     _, ax = plt.subplots()\n",
    "#     ax.hist(descriptor.ravel(), bins=256)\n",
    "# descriptors2 = np.array(descriptors2)\n",
    "\n",
    "# cv.imshow('sift_keypoints.jpg', img)\n",
    "# img = cv.drawKeypoints(thresh1, kp, img)\n",
    "# cv.imshow('sift_keypoints.jpg', img)"
   ]
  },
  {
   "cell_type": "code",
   "execution_count": 100,
   "metadata": {},
   "outputs": [
    {
     "data": {
      "text/plain": [
       "SVC(decision_function_shape='ovo')"
      ]
     },
     "execution_count": 100,
     "metadata": {},
     "output_type": "execute_result"
    }
   ],
   "source": [
    "clf = svm.SVC(decision_function_shape='ovo')\n",
    "# y= np.repeat(2, len(bagOfWords))\n",
    "# y[0] = 1\n",
    "# print(len(descriptors2))\n",
    "# print(len(descriptors2[0]))\n",
    "# print(descriptors2)\n",
    "clf.fit(bagOfWords, y)\n",
    "# dec = clf.decision_function([[1]])\n",
    "# dec.shape[1] # 4 classes: 4*3/2 = 6\n",
    "# clf.decision_function_shape = \"ovr\"\n",
    "# dec = clf.decision_function([[1]])\n",
    "# dec.shape[1] # 4 classes\n"
   ]
  }
 ],
 "metadata": {
  "kernelspec": {
   "display_name": "base",
   "language": "python",
   "name": "python3"
  },
  "language_info": {
   "codemirror_mode": {
    "name": "ipython",
    "version": 3
   },
   "file_extension": ".py",
   "mimetype": "text/x-python",
   "name": "python",
   "nbconvert_exporter": "python",
   "pygments_lexer": "ipython3",
   "version": "3.9.12"
  },
  "orig_nbformat": 4,
  "vscode": {
   "interpreter": {
    "hash": "52bddb0331acbd1d7510fbc8cdedf383b99e49f6b4a4b85b54e23ac0ff6466ee"
   }
  }
 },
 "nbformat": 4,
 "nbformat_minor": 2
}
