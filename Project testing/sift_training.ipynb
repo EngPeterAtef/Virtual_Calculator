{
 "cells": [
  {
   "cell_type": "code",
   "execution_count": 38,
   "metadata": {},
   "outputs": [],
   "source": [
    "import numpy as np\n",
    "import cv2 as cv\n",
    "from sklearn.preprocessing import KBinsDiscretizer\n",
    "import matplotlib.pyplot as plt\n",
    "from sklearn import svm\n",
    "from sklearn import cluster\n",
    "\n"
   ]
  },
  {
   "cell_type": "code",
   "execution_count": 39,
   "metadata": {},
   "outputs": [],
   "source": [
    "path = \"D:/Engineering/CUFE/3rd Year (Computer) (2022)/First Semester/Image Processing/Projects/Training set/2/\"\n",
    "img = cv.imread(path + '1.jpg')\n",
    "sift = cv.SIFT_create()\n",
    "kp, descriptor = sift.detectAndCompute(img,None)\n",
    "feature_set = np.copy(descriptor)\n",
    "descriptors = []\n",
    "descriptors.append(descriptor)\n",
    "# imgs = np.copy(img)\n",
    "for i in range(2,100):\n",
    "    # Read image\n",
    "    img = cv.imread(path + f'{i}.jpg')\n",
    "    # imgs=np.concatenate((imgs, img),axis=0)\n",
    "\n",
    "    # Grayscale\n",
    "    # gray = cv.cvtColor(img, cv.COLOR_BGR2GRAY)\n",
    "    # Binary\n",
    "    # et, thresh1 = cv.threshold(gray, 127, 255, cv.THRESH_BINARY_INV+cv.THRESH_OTSU)\n",
    "    # Initialize sift\n",
    "    sift = cv.SIFT_create()\n",
    "    # Keypoints, descriptors\n",
    "    kp, descriptor = sift.detectAndCompute(img,None)\n",
    "    # print(len(descriptor))\n",
    "    # print(len(descriptor[0]))\n",
    "    descriptors.append(np.array(descriptor))\n",
    "    # Each keypoint has a descriptor with length 128\n",
    "    # print(len(descriptors))\n",
    "    # print(len(descriptors[0]))\n",
    "    # print(len(descriptors[0][0]))\n",
    "    # print(descriptors)\n",
    "    # cv.imshow('Threshold', img)\n",
    "    # cv.waitKey(0)\n",
    "    # cv.destroyAllWindows()\n",
    "    feature_set=np.concatenate((feature_set, descriptor),axis=0)\n",
    "    # print(feature_set)\n"
   ]
  },
  {
   "cell_type": "code",
   "execution_count": 40,
   "metadata": {},
   "outputs": [],
   "source": [
    "# n_bins = 50\n",
    "# encoder = KBinsDiscretizer(n_bins=n_bins, encode=\"ordinal\", strategy=\"kmeans\")\n",
    "# encoder.fit(feature_set)\n",
    "# print(encoder.get_params())\n",
    "# descriptor = np.array(descriptor)\n",
    "# # _, ax = plt.subplots()\n",
    "# # ax.hist(y, bins=256)\n"
   ]
  },
  {
   "cell_type": "code",
   "execution_count": 48,
   "metadata": {},
   "outputs": [],
   "source": [
    "n_clusters = 100\n",
    "np.random.seed(0)\n",
    "\n",
    "x=feature_set.reshape((-1,1))\n",
    "k_means = cluster.KMeans(n_clusters=n_clusters, n_init=4)\n",
    "k_means.fit(x)\n",
    "values = k_means.cluster_centers_.squeeze()\n",
    "labels = k_means.labels_\n"
   ]
  },
  {
   "cell_type": "code",
   "execution_count": 49,
   "metadata": {},
   "outputs": [
    {
     "name": "stdout",
     "output_type": "stream",
     "text": [
      "[ 1.99995804e+00  1.41501648e+02  5.54656677e+01  2.20000000e+01\n",
      "  8.45263138e+01  1.92352127e+02  1.20154541e+02  3.44789810e+01\n",
      "  1.10000048e+01  1.50942795e+02 -3.45230103e-04  6.99653168e+01\n",
      "  4.25077286e+01  1.05950233e+02  1.74679504e+02  1.32488571e+02\n",
      "  6.00000381e+00  3.00000038e+01  1.70000000e+01  1.62500046e+02\n",
      "  9.19775772e+01  2.01415421e+02  5.25000000e+01  8.10229416e+01\n",
      "  1.13510025e+02  6.50645142e+01  1.00055565e+02  1.25905540e+02\n",
      "  2.70000000e+01  7.49715881e+01  4.84850769e+01  1.83490234e+02\n",
      "  1.36963486e+02  1.45989182e+02  1.56594482e+02  1.40000019e+01\n",
      "  3.99999046e+00  8.00000381e+00  5.99906540e+01  3.80000000e+01\n",
      "  1.94709740e+01  2.45005932e+01  9.69650040e+01  1.00004387e+00\n",
      "  4.55012970e+01  1.79116699e+02  6.74772720e+01  2.99996948e+00\n",
      "  1.69473709e+02  1.30382339e+02  1.16926132e+02  9.00000286e+00\n",
      "  2.04313034e+02  7.00000381e+00  1.22603279e+02  3.24707985e+01\n",
      "  8.89135361e+01  1.09386566e+02  1.88833328e+02  5.40000000e+01\n",
      "  6.24440308e+01  5.00000572e+00  1.00000038e+01  1.34531326e+02\n",
      "  4.00000038e+01  1.03039413e+02  7.24705887e+01  1.48495529e+02\n",
      "  4.40000000e+01  7.79250031e+01  1.58975174e+02  1.65715927e+02\n",
      "  1.50000010e+01  1.28407028e+02  1.30000019e+01  1.39511490e+02\n",
      "  5.04786606e+01  1.20000038e+01  1.43579971e+02  5.75162354e+01\n",
      "  1.79999981e+01  8.29999924e+01  1.99414032e+02  9.45248260e+01\n",
      "  1.60000019e+01  2.90000019e+01  1.23999992e+02  2.10000000e+01\n",
      "  1.86653854e+02  3.64891586e+01  3.10000038e+01  4.10000000e+01\n",
      "  2.60000000e+01  2.80000019e+01  4.70000038e+01  3.90000000e+01\n",
      "  8.64480896e+01  2.30000000e+01  1.53928604e+02  1.95711136e+02]\n",
      "[10 10 10 ... 47 10 10]\n"
     ]
    }
   ],
   "source": [
    "print(values)\n",
    "print(labels)"
   ]
  },
  {
   "cell_type": "code",
   "execution_count": 50,
   "metadata": {},
   "outputs": [
    {
     "ename": "ValueError",
     "evalue": "Need at least 0 and at most 32 array objects.",
     "output_type": "error",
     "traceback": [
      "\u001b[1;31m---------------------------------------------------------------------------\u001b[0m",
      "\u001b[1;31mValueError\u001b[0m                                Traceback (most recent call last)",
      "\u001b[1;32md:\\Engineering\\CUFE\\3rd Year (Computer) (2022)\\First Semester\\Image Processing\\Projects\\Virtual_Keyboard\\Project testing\\sift_training.ipynb Cell 6\u001b[0m in \u001b[0;36m<cell line: 1>\u001b[1;34m()\u001b[0m\n\u001b[1;32m----> <a href='vscode-notebook-cell:/d%3A/Engineering/CUFE/3rd%20Year%20%28Computer%29%20%282022%29/First%20Semester/Image%20Processing/Projects/Virtual_Keyboard/Project%20testing/sift_training.ipynb#X11sZmlsZQ%3D%3D?line=0'>1</a>\u001b[0m feature_set \u001b[39m=\u001b[39m np\u001b[39m.\u001b[39;49mchoose(labels, values)\n\u001b[0;32m      <a href='vscode-notebook-cell:/d%3A/Engineering/CUFE/3rd%20Year%20%28Computer%29%20%282022%29/First%20Semester/Image%20Processing/Projects/Virtual_Keyboard/Project%20testing/sift_training.ipynb#X11sZmlsZQ%3D%3D?line=1'>2</a>\u001b[0m feature_set\u001b[39m.\u001b[39mshape \u001b[39m=\u001b[39m feature_set\u001b[39m.\u001b[39mshape\n",
      "File \u001b[1;32m<__array_function__ internals>:5\u001b[0m, in \u001b[0;36mchoose\u001b[1;34m(*args, **kwargs)\u001b[0m\n",
      "File \u001b[1;32mc:\\Users\\bemoi\\anaconda3\\lib\\site-packages\\numpy\\core\\fromnumeric.py:429\u001b[0m, in \u001b[0;36mchoose\u001b[1;34m(a, choices, out, mode)\u001b[0m\n\u001b[0;32m    307\u001b[0m \u001b[39m@array_function_dispatch\u001b[39m(_choose_dispatcher)\n\u001b[0;32m    308\u001b[0m \u001b[39mdef\u001b[39;00m \u001b[39mchoose\u001b[39m(a, choices, out\u001b[39m=\u001b[39m\u001b[39mNone\u001b[39;00m, mode\u001b[39m=\u001b[39m\u001b[39m'\u001b[39m\u001b[39mraise\u001b[39m\u001b[39m'\u001b[39m):\n\u001b[0;32m    309\u001b[0m     \u001b[39m\"\"\"\u001b[39;00m\n\u001b[0;32m    310\u001b[0m \u001b[39m    Construct an array from an index array and a list of arrays to choose from.\u001b[39;00m\n\u001b[0;32m    311\u001b[0m \n\u001b[1;32m   (...)\u001b[0m\n\u001b[0;32m    427\u001b[0m \n\u001b[0;32m    428\u001b[0m \u001b[39m    \"\"\"\u001b[39;00m\n\u001b[1;32m--> 429\u001b[0m     \u001b[39mreturn\u001b[39;00m _wrapfunc(a, \u001b[39m'\u001b[39;49m\u001b[39mchoose\u001b[39;49m\u001b[39m'\u001b[39;49m, choices, out\u001b[39m=\u001b[39;49mout, mode\u001b[39m=\u001b[39;49mmode)\n",
      "File \u001b[1;32mc:\\Users\\bemoi\\anaconda3\\lib\\site-packages\\numpy\\core\\fromnumeric.py:57\u001b[0m, in \u001b[0;36m_wrapfunc\u001b[1;34m(obj, method, *args, **kwds)\u001b[0m\n\u001b[0;32m     54\u001b[0m     \u001b[39mreturn\u001b[39;00m _wrapit(obj, method, \u001b[39m*\u001b[39margs, \u001b[39m*\u001b[39m\u001b[39m*\u001b[39mkwds)\n\u001b[0;32m     56\u001b[0m \u001b[39mtry\u001b[39;00m:\n\u001b[1;32m---> 57\u001b[0m     \u001b[39mreturn\u001b[39;00m bound(\u001b[39m*\u001b[39margs, \u001b[39m*\u001b[39m\u001b[39m*\u001b[39mkwds)\n\u001b[0;32m     58\u001b[0m \u001b[39mexcept\u001b[39;00m \u001b[39mTypeError\u001b[39;00m:\n\u001b[0;32m     59\u001b[0m     \u001b[39m# A TypeError occurs if the object does have such a method in its\u001b[39;00m\n\u001b[0;32m     60\u001b[0m     \u001b[39m# class, but its signature is not identical to that of NumPy's. This\u001b[39;00m\n\u001b[1;32m   (...)\u001b[0m\n\u001b[0;32m     64\u001b[0m     \u001b[39m# Call _wrapit from within the except clause to ensure a potential\u001b[39;00m\n\u001b[0;32m     65\u001b[0m     \u001b[39m# exception has a traceback chain.\u001b[39;00m\n\u001b[0;32m     66\u001b[0m     \u001b[39mreturn\u001b[39;00m _wrapit(obj, method, \u001b[39m*\u001b[39margs, \u001b[39m*\u001b[39m\u001b[39m*\u001b[39mkwds)\n",
      "\u001b[1;31mValueError\u001b[0m: Need at least 0 and at most 32 array objects."
     ]
    }
   ],
   "source": [
    "feature_set = np.choose(labels, values)\n",
    "feature_set.shape = feature_set.shape"
   ]
  },
  {
   "cell_type": "code",
   "execution_count": null,
   "metadata": {},
   "outputs": [],
   "source": [
    "# # print(descriptor)\n",
    "# descriptors2 = []\n",
    "for descriptor in descriptors:\n",
    "    descriptor = encoder.transform(descriptor)\n",
    "    print(len(descriptor))\n",
    "    descriptors2.append(descriptor)\n",
    "# # _, ax = plt.subplots()\n",
    "# # ax.hist(descriptor, bins=256)"
   ]
  },
  {
   "cell_type": "code",
   "execution_count": null,
   "metadata": {},
   "outputs": [],
   "source": [
    "# for descriptor in descriptors:\n",
    "#     _, ax = plt.subplots()\n",
    "#     ax.hist(descriptor.ravel(), bins=256)\n",
    "# descriptors2 = np.array(descriptors2)\n",
    "\n",
    "# cv.imshow('sift_keypoints.jpg', img)\n",
    "# img = cv.drawKeypoints(thresh1, kp, img)\n",
    "# cv.imshow('sift_keypoints.jpg', img)"
   ]
  },
  {
   "cell_type": "code",
   "execution_count": null,
   "metadata": {},
   "outputs": [],
   "source": [
    "# clf = svm.SVC(decision_function_shape='ovo')\n",
    "# y= np.repeat(2, len(descriptors2))\n",
    "# print(len(descriptors2))\n",
    "# print(len(descriptors2[0]))\n",
    "# print(descriptors2)\n",
    "# clf.fit(descriptors2, y)\n",
    "# # dec = clf.decision_function([[1]])\n",
    "# # dec.shape[1] # 4 classes: 4*3/2 = 6\n",
    "# # clf.decision_function_shape = \"ovr\"\n",
    "# # dec = clf.decision_function([[1]])\n",
    "# # dec.shape[1] # 4 classes\n"
   ]
  }
 ],
 "metadata": {
  "kernelspec": {
   "display_name": "base",
   "language": "python",
   "name": "python3"
  },
  "language_info": {
   "codemirror_mode": {
    "name": "ipython",
    "version": 3
   },
   "file_extension": ".py",
   "mimetype": "text/x-python",
   "name": "python",
   "nbconvert_exporter": "python",
   "pygments_lexer": "ipython3",
   "version": "3.9.12"
  },
  "orig_nbformat": 4,
  "vscode": {
   "interpreter": {
    "hash": "52bddb0331acbd1d7510fbc8cdedf383b99e49f6b4a4b85b54e23ac0ff6466ee"
   }
  }
 },
 "nbformat": 4,
 "nbformat_minor": 2
}
